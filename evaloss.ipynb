{
 "cells": [
  {
   "cell_type": "code",
   "execution_count": 36,
   "metadata": {},
   "outputs": [],
   "source": [
    "import numpy as np"
   ]
  },
  {
   "cell_type": "code",
   "execution_count": 38,
   "metadata": {},
   "outputs": [
    {
     "name": "stdout",
     "output_type": "stream",
     "text": [
      "Enter details for books: \"DBMS\",\"gate\",\"edu\",\"908\",True\n"
     ]
    }
   ],
   "source": []
  },
  {
   "cell_type": "code",
   "execution_count": 46,
   "metadata": {},
   "outputs": [
    {
     "name": "stdout",
     "output_type": "stream",
     "text": [
      "Enter details for books: \"ossp\",\"abcd\",\"edu\",\"976\",True\n"
     ]
    }
   ],
   "source": [
    "books=[{\n",
    "    \"title\":\"COA\",\n",
    "    \"author\":\"STALLINGS \",\n",
    "    \"genre\":\"edu\",\n",
    "    \"isbn\": \"001\",\n",
    "    \"available\": True,\n",
    "},\n",
    "{\n",
    "    \"title\":\"OSS\",\n",
    "    \"author\":\"Isha Singhal\",\n",
    "    \"genre\":\"theory\",\n",
    "    \"isbn\": \"0045\",\n",
    "    \"available\": True,\n",
    "},\n",
    "{\n",
    "    \"title\":\"CYBERSECURITY\",\n",
    "    \"author\":\"xyz\",\n",
    "    \"genre\":\"edu\",\n",
    "    \"isbn\": \"0981\",\n",
    "    \"available\": True,\n",
    "},\n",
    "{\n",
    "    \"title\":\"FOML\",\n",
    "    \"author\":\"Robbin hood\",\n",
    "    \"genre\":\"core\",\n",
    "    \"isbn\": \"0301\",\n",
    "    \"available\": True,\n",
    "},{\n",
    "    \"title\":\"MATRIX\",\n",
    "    \"author\":\"shakespeare\",\n",
    "    \"genre\":\"maths\",\n",
    "    \"isbn\": \"2001\",\n",
    "    \"available\": True,\n",
    "}]\n",
    "str = input(\"Enter details for books: \")\n",
    "listt = str.split(',')\n",
    "dictt={}\n",
    "dictt[\"title\"]=listt[0]\n",
    "dictt[\"author\"]=listt[1]\n",
    "dictt[\"genre\"]=listt[2]\n",
    "dictt[\"isbn\"]=listt[3]\n",
    "dictt[\"available\"]=listt[4]\n",
    "\n",
    "books.append(dictt)"
   ]
  },
  {
   "cell_type": "code",
   "execution_count": 47,
   "metadata": {},
   "outputs": [
    {
     "name": "stdout",
     "output_type": "stream",
     "text": [
      "{'title': 'COA', 'author': 'STALLINGS ', 'genre': 'edu', 'isbn': '001', 'available': True}\n",
      "{'title': 'OSS', 'author': 'Isha Singhal', 'genre': 'theory', 'isbn': '0045', 'available': True}\n",
      "{'title': 'CYBERSECURITY', 'author': 'xyz', 'genre': 'edu', 'isbn': '0981', 'available': True}\n",
      "{'title': 'FOML', 'author': 'Robbin hood', 'genre': 'core', 'isbn': '0301', 'available': True}\n",
      "{'title': 'MATRIX', 'author': 'shakespeare', 'genre': 'maths', 'isbn': '2001', 'available': True}\n",
      "{'title': '\"ossp\"', 'author': '\"abcd\"', 'genre': '\"edu\"', 'isbn': '\"976\"', 'available': 'True'}\n",
      "{'title': 'abcd', 'author': 'isha', 'genre': 'comic', 'isbn': '009', 'available': True}\n",
      "{'title': 'prp', 'author': 'temp', 'genre': 'comic', 'isbn': '432', 'available': True}\n"
     ]
    }
   ],
   "source": [
    "def add_book(title,author,genre,isbn,available):\n",
    "    temp={}\n",
    "    temp[\"title\"]=title\n",
    "    temp[\"author\"]=author\n",
    "    temp[\"genre\"]=genre\n",
    "    temp[\"isbn\"]=isbn\n",
    "    temp[\"available\"]=available\n",
    "    books.append(temp)\n",
    "    \n",
    "add_book(\"abcd\",\"isha\",\"comic\",\"009\",True)\n",
    "add_book(\"prp\",\"temp\",\"comic\",\"432\",True)\n",
    "for dictt in books:\n",
    "    print(dictt)"
   ]
  },
  {
   "cell_type": "code",
   "execution_count": 43,
   "metadata": {},
   "outputs": [
    {
     "name": "stdout",
     "output_type": "stream",
     "text": [
      "{'title': 'MATRIX', 'author': 'shakespeare', 'genre': 'maths', 'isbn': '2001', 'available': True}\n"
     ]
    }
   ],
   "source": [
    "def search_book(isbn):\n",
    "    for dictt in books:\n",
    "        if dictt[\"isbn\"]==isbn:\n",
    "            print(dictt)\n",
    "    \n",
    "    \n",
    "search_book(\"2001\")"
   ]
  },
  {
   "cell_type": "code",
   "execution_count": 32,
   "metadata": {},
   "outputs": [
    {
     "name": "stdout",
     "output_type": "stream",
     "text": [
      "[{'title': 'COA', 'author': 'STALLINGS ', 'genre': 'Technical', 'isbn': '001', 'available': False}, {'title': 'OSS', 'author': 'Isha Singhal', 'genre': 'theory', 'isbn': '0045', 'available': True}, {'title': 'CYBERSECURITY', 'author': 'xyz', 'genre': 'edu', 'isbn': '0981', 'available': True}, {'title': 'FOML', 'author': 'Robbin hood', 'genre': 'core', 'isbn': '0301', 'available': True}, {'title': 'MATRIX', 'author': 'shakespeare', 'genre': 'maths', 'isbn': '2001', 'available': True}, {'title': 'abcd', 'author': 'isha', 'genre': 'comic', 'isbn': '009', 'available': True}, {'title': 'prp', 'author': 'temp', 'genre': 'comic', 'isbn': '432', 'available': True}]\n"
     ]
    }
   ],
   "source": [
    "def update_book(title,new_available,new_genre,new_isbn,new_author):\n",
    "    for dictt in books:\n",
    "        if dictt[\"title\"]==title:\n",
    "            dictt[\"available\"]=new_available\n",
    "            dictt[\"genre\"]=new_genre\n",
    "            \n",
    "    \n",
    "update_book(\"COA\",False,\"Technical\",\" \",\" \")\n",
    "for dictt in books:\n",
    "    print(dictt)"
   ]
  },
  {
   "cell_type": "code",
   "execution_count": 48,
   "metadata": {},
   "outputs": [
    {
     "name": "stdout",
     "output_type": "stream",
     "text": [
      "{'title': 'COA', 'author': 'STALLINGS ', 'genre': 'edu', 'isbn': '001', 'available': True}\n",
      "{'title': 'CYBERSECURITY', 'author': 'xyz', 'genre': 'edu', 'isbn': '0981', 'available': True}\n"
     ]
    }
   ],
   "source": [
    "def genre_report(genre):\n",
    "    for dictt in books:\n",
    "        if dictt[\"genre\"]==genre:\n",
    "            if dictt[\"available\"]==True:\n",
    "                print(dictt)\n",
    "                \n",
    "                \n",
    "genre_report(\"edu\")"
   ]
  },
  {
   "cell_type": "code",
   "execution_count": 34,
   "metadata": {},
   "outputs": [
    {
     "name": "stdout",
     "output_type": "stream",
     "text": [
      "[{'title': 'COA', 'author': 'STALLINGS ', 'genre': 'Technical', 'isbn': '001', 'available': False}, {'title': 'OSS', 'author': 'Isha Singhal', 'genre': 'theory', 'isbn': '0045', 'available': True}, {'title': 'CYBERSECURITY', 'author': 'xyz', 'genre': 'edu', 'isbn': '0981', 'available': True}, {'title': 'FOML', 'author': 'Robbin hood', 'genre': 'core', 'isbn': '0301', 'available': True}, {'title': 'MATRIX', 'author': 'shakespeare', 'genre': 'maths', 'isbn': '2001', 'available': True}, {'title': 'abcd', 'author': 'isha', 'genre': 'comic', 'isbn': '009', 'available': True}, {'title': 'prp', 'author': 'temp', 'genre': 'comic', 'isbn': '432', 'available': True}]\n"
     ]
    }
   ],
   "source": [
    "for dictt in books:\n",
    "    print(dictt)"
   ]
  },
  {
   "cell_type": "code",
   "execution_count": null,
   "metadata": {},
   "outputs": [],
   "source": []
  }
 ],
 "metadata": {
  "kernelspec": {
   "display_name": "Python 3",
   "language": "python",
   "name": "python3"
  },
  "language_info": {
   "codemirror_mode": {
    "name": "ipython",
    "version": 3
   },
   "file_extension": ".py",
   "mimetype": "text/x-python",
   "name": "python",
   "nbconvert_exporter": "python",
   "pygments_lexer": "ipython3",
   "version": "3.7.3"
  }
 },
 "nbformat": 4,
 "nbformat_minor": 2
}
